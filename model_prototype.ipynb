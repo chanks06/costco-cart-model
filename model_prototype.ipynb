{
 "cells": [
  {
   "cell_type": "markdown",
   "metadata": {},
   "source": [
    "# COSTO SHOPPING CART SIMULATOR "
   ]
  },
  {
   "cell_type": "markdown",
   "metadata": {},
   "source": [
    "I would like to create a simulation of how the shopping carts populate and are wrangled by workers in the costco parking lot. This project is inspired by my current work as a front-end assistant at Costco warehouse #97. Part of the job is gathering shopping carts and pushing a train of them from their corrals across the parking lot and back to the front of the warehouse. "
   ]
  },
  {
   "cell_type": "markdown",
   "metadata": {},
   "source": [
    "## Objective 1:\n",
    "\n",
    "Create a function that, when run, randomly populates the corrals with shopping carts. \n",
    "\n",
    "the corrals will be lists. \n",
    "the carts will be the letter 'x'"
   ]
  },
  {
   "cell_type": "markdown",
   "metadata": {},
   "source": []
  },
  {
   "cell_type": "code",
   "execution_count": 5,
   "metadata": {},
   "outputs": [],
   "source": [
    "#prototype 1: create one list and have it increase by one x every minute. \n",
    "import time"
   ]
  },
  {
   "cell_type": "code",
   "execution_count": 3,
   "metadata": {},
   "outputs": [],
   "source": [
    "corral_1 = []\n"
   ]
  },
  {
   "cell_type": "code",
   "execution_count": 6,
   "metadata": {},
   "outputs": [],
   "source": [
    "while len(corral_1) < 13:\n",
    "    corral_1.append('x')\n",
    "    time.sleep(20)"
   ]
  },
  {
   "cell_type": "code",
   "execution_count": 7,
   "metadata": {},
   "outputs": [
    {
     "name": "stdout",
     "output_type": "stream",
     "text": [
      "['x', 'x', 'x', 'x', 'x', 'x', 'x', 'x', 'x', 'x', 'x', 'x', 'x']\n"
     ]
    }
   ],
   "source": [
    "print(corral_1)"
   ]
  },
  {
   "cell_type": "code",
   "execution_count": 14,
   "metadata": {},
   "outputs": [],
   "source": [
    "import time \n",
    "import random \n",
    "\n",
    "#model parameters\n",
    "\n",
    "corral_capacity = 30 \n",
    "busyness_factor = .5 \n",
    "num_workers = 1 \n",
    "\n",
    "def model(corral):\n",
    "    while True:\n",
    "        if len(corral) < corral_capacity: \n",
    "            corral.append('x')\n",
    "\n",
    "        for i in range(num_workers): \n",
    "            if len(corral) > 0: \n",
    "                corral.pop(0)\n",
    "\n",
    "        print(corral)\n",
    "        time.sleep(5)\n"
   ]
  },
  {
   "cell_type": "code",
   "execution_count": 15,
   "metadata": {},
   "outputs": [],
   "source": [
    "corral_2 = ['x','x','x']"
   ]
  },
  {
   "cell_type": "code",
   "execution_count": 16,
   "metadata": {},
   "outputs": [
    {
     "name": "stdout",
     "output_type": "stream",
     "text": [
      "['x', 'x', 'x']\n",
      "['x', 'x', 'x']\n",
      "['x', 'x', 'x']\n",
      "['x', 'x', 'x']\n",
      "['x', 'x', 'x']\n",
      "['x', 'x', 'x']\n",
      "['x', 'x', 'x']\n",
      "['x', 'x', 'x']\n",
      "['x', 'x', 'x']\n"
     ]
    },
    {
     "ename": "KeyboardInterrupt",
     "evalue": "",
     "output_type": "error",
     "traceback": [
      "\u001b[1;31m---------------------------------------------------------------------------\u001b[0m",
      "\u001b[1;31mKeyboardInterrupt\u001b[0m                         Traceback (most recent call last)",
      "\u001b[1;32mc:\\Users\\chanks\\workspace\\costco-cart-model\\model_prototype.ipynb Cell 11\u001b[0m line \u001b[0;36m1\n\u001b[1;32m----> <a href='vscode-notebook-cell:/c%3A/Users/chanks/workspace/costco-cart-model/model_prototype.ipynb#X13sZmlsZQ%3D%3D?line=0'>1</a>\u001b[0m model(corral_2)\n",
      "\u001b[1;32mc:\\Users\\chanks\\workspace\\costco-cart-model\\model_prototype.ipynb Cell 11\u001b[0m line \u001b[0;36m2\n\u001b[0;32m     <a href='vscode-notebook-cell:/c%3A/Users/chanks/workspace/costco-cart-model/model_prototype.ipynb#X13sZmlsZQ%3D%3D?line=16'>17</a>\u001b[0m         corral\u001b[39m.\u001b[39mpop(\u001b[39m0\u001b[39m)\n\u001b[0;32m     <a href='vscode-notebook-cell:/c%3A/Users/chanks/workspace/costco-cart-model/model_prototype.ipynb#X13sZmlsZQ%3D%3D?line=18'>19</a>\u001b[0m \u001b[39mprint\u001b[39m(corral)\n\u001b[1;32m---> <a href='vscode-notebook-cell:/c%3A/Users/chanks/workspace/costco-cart-model/model_prototype.ipynb#X13sZmlsZQ%3D%3D?line=19'>20</a>\u001b[0m time\u001b[39m.\u001b[39msleep(\u001b[39m5\u001b[39m)\n",
      "\u001b[1;31mKeyboardInterrupt\u001b[0m: "
     ]
    }
   ],
   "source": [
    "model(corral_2)"
   ]
  },
  {
   "cell_type": "code",
   "execution_count": 13,
   "metadata": {},
   "outputs": [
    {
     "name": "stdout",
     "output_type": "stream",
     "text": [
      "a\n"
     ]
    }
   ],
   "source": [
    "for i in range(1):\n",
    "    print('a')"
   ]
  },
  {
   "cell_type": "code",
   "execution_count": null,
   "metadata": {},
   "outputs": [],
   "source": []
  }
 ],
 "metadata": {
  "kernelspec": {
   "display_name": "Python 3",
   "language": "python",
   "name": "python3"
  },
  "language_info": {
   "codemirror_mode": {
    "name": "ipython",
    "version": 3
   },
   "file_extension": ".py",
   "mimetype": "text/x-python",
   "name": "python",
   "nbconvert_exporter": "python",
   "pygments_lexer": "ipython3",
   "version": "3.11.5"
  }
 },
 "nbformat": 4,
 "nbformat_minor": 2
}
