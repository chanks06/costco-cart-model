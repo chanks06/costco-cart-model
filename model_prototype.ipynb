{
 "cells": [
  {
   "cell_type": "markdown",
   "metadata": {},
   "source": [
    "# COSTO SHOPPING CART SIMULATOR "
   ]
  },
  {
   "cell_type": "markdown",
   "metadata": {},
   "source": [
    "I would like to create a simulation of how the shopping carts populate and are wrangled by workers in the costco parking lot. This project is inspired by my current work as a front-end assistant at Costco warehouse #97. Part of the job is gathering shopping carts and pushing a train of them from their corrals across the parking lot and back to the front of the warehouse. "
   ]
  },
  {
   "cell_type": "markdown",
   "metadata": {},
   "source": [
    "## Objective 1:\n",
    "\n",
    "Create a function that, when run, randomly populates the corrals with shopping carts. \n",
    "\n",
    "the corrals will be lists. \n",
    "the carts will be the letter 'x'"
   ]
  },
  {
   "cell_type": "markdown",
   "metadata": {},
   "source": []
  },
  {
   "cell_type": "code",
   "execution_count": 29,
   "metadata": {},
   "outputs": [],
   "source": [
    "#prototype 1: create one list and have it increase by one x every minute. \n",
    "import time"
   ]
  },
  {
   "cell_type": "code",
   "execution_count": 30,
   "metadata": {},
   "outputs": [],
   "source": [
    "corral_1 = []\n"
   ]
  },
  {
   "cell_type": "code",
   "execution_count": 31,
   "metadata": {},
   "outputs": [
    {
     "ename": "KeyboardInterrupt",
     "evalue": "",
     "output_type": "error",
     "traceback": [
      "\u001b[0;31m---------------------------------------------------------------------------\u001b[0m",
      "\u001b[0;31mKeyboardInterrupt\u001b[0m                         Traceback (most recent call last)",
      "\u001b[1;32m/Users/chanks/workspace/costco-cart-model/model_prototype.ipynb Cell 7\u001b[0m line \u001b[0;36m3\n\u001b[1;32m      <a href='vscode-notebook-cell:/Users/chanks/workspace/costco-cart-model/model_prototype.ipynb#W6sZmlsZQ%3D%3D?line=0'>1</a>\u001b[0m \u001b[39mwhile\u001b[39;00m \u001b[39mlen\u001b[39m(corral_1) \u001b[39m<\u001b[39m \u001b[39m13\u001b[39m:\n\u001b[1;32m      <a href='vscode-notebook-cell:/Users/chanks/workspace/costco-cart-model/model_prototype.ipynb#W6sZmlsZQ%3D%3D?line=1'>2</a>\u001b[0m     corral_1\u001b[39m.\u001b[39mappend(\u001b[39m'\u001b[39m\u001b[39mx\u001b[39m\u001b[39m'\u001b[39m)\n\u001b[0;32m----> <a href='vscode-notebook-cell:/Users/chanks/workspace/costco-cart-model/model_prototype.ipynb#W6sZmlsZQ%3D%3D?line=2'>3</a>\u001b[0m     time\u001b[39m.\u001b[39;49msleep(\u001b[39m20\u001b[39;49m)\n",
      "\u001b[0;31mKeyboardInterrupt\u001b[0m: "
     ]
    }
   ],
   "source": [
    "while len(corral_1) < 13:\n",
    "    corral_1.append('x')\n",
    "    time.sleep(20)"
   ]
  },
  {
   "cell_type": "code",
   "execution_count": null,
   "metadata": {},
   "outputs": [
    {
     "name": "stdout",
     "output_type": "stream",
     "text": [
      "['x', 'x', 'x', 'x', 'x', 'x', 'x', 'x', 'x', 'x', 'x', 'x', 'x']\n"
     ]
    }
   ],
   "source": [
    "print(corral_1)"
   ]
  },
  {
   "cell_type": "code",
   "execution_count": null,
   "metadata": {},
   "outputs": [],
   "source": [
    "import time \n",
    "import random \n",
    "\n",
    "#model parameters\n",
    "\n",
    "corral_capacity = 30 \n",
    "busyness_factor = .5 \n",
    "num_workers = 2 \n",
    "\n",
    "def model(corral):\n",
    "    while True:\n",
    "        if len(corral) < corral_capacity: \n",
    "            corral.append('x')\n",
    "\n",
    "        for i in range(num_workers): \n",
    "            if len(corral) > 0: \n",
    "                corral.pop(0)\n",
    "\n",
    "        print(corral)\n",
    "        time.sleep(5)\n"
   ]
  },
  {
   "cell_type": "code",
   "execution_count": null,
   "metadata": {},
   "outputs": [],
   "source": [
    "corral_2 = ['x','x','x']"
   ]
  },
  {
   "cell_type": "code",
   "execution_count": null,
   "metadata": {},
   "outputs": [
    {
     "name": "stdout",
     "output_type": "stream",
     "text": [
      "['x', 'x']\n",
      "['x']\n",
      "[]\n",
      "[]\n"
     ]
    },
    {
     "ename": "KeyboardInterrupt",
     "evalue": "",
     "output_type": "error",
     "traceback": [
      "\u001b[0;31m---------------------------------------------------------------------------\u001b[0m",
      "\u001b[0;31mKeyboardInterrupt\u001b[0m                         Traceback (most recent call last)",
      "\u001b[1;32m/Users/chanks/workspace/costco-cart-model/model_prototype.ipynb Cell 11\u001b[0m line \u001b[0;36m1\n\u001b[0;32m----> <a href='vscode-notebook-cell:/Users/chanks/workspace/costco-cart-model/model_prototype.ipynb#X13sZmlsZQ%3D%3D?line=0'>1</a>\u001b[0m model(corral_2)\n",
      "\u001b[1;32m/Users/chanks/workspace/costco-cart-model/model_prototype.ipynb Cell 11\u001b[0m line \u001b[0;36m2\n\u001b[1;32m     <a href='vscode-notebook-cell:/Users/chanks/workspace/costco-cart-model/model_prototype.ipynb#X13sZmlsZQ%3D%3D?line=16'>17</a>\u001b[0m         corral\u001b[39m.\u001b[39mpop(\u001b[39m0\u001b[39m)\n\u001b[1;32m     <a href='vscode-notebook-cell:/Users/chanks/workspace/costco-cart-model/model_prototype.ipynb#X13sZmlsZQ%3D%3D?line=18'>19</a>\u001b[0m \u001b[39mprint\u001b[39m(corral)\n\u001b[0;32m---> <a href='vscode-notebook-cell:/Users/chanks/workspace/costco-cart-model/model_prototype.ipynb#X13sZmlsZQ%3D%3D?line=19'>20</a>\u001b[0m time\u001b[39m.\u001b[39;49msleep(\u001b[39m5\u001b[39;49m)\n",
      "\u001b[0;31mKeyboardInterrupt\u001b[0m: "
     ]
    }
   ],
   "source": [
    "model(corral_2)"
   ]
  },
  {
   "cell_type": "code",
   "execution_count": null,
   "metadata": {},
   "outputs": [
    {
     "name": "stdout",
     "output_type": "stream",
     "text": [
      "a\n"
     ]
    }
   ],
   "source": [
    "for i in range(1):\n",
    "    print('a')"
   ]
  },
  {
   "cell_type": "markdown",
   "metadata": {},
   "source": [
    "## Objective 2: CLASSES "
   ]
  },
  {
   "cell_type": "markdown",
   "metadata": {},
   "source": [
    "I haven't used python as a true object oriented language before. This is a good opportunity to practice creating objects from classes"
   ]
  },
  {
   "cell_type": "markdown",
   "metadata": {},
   "source": [
    "#### employee class "
   ]
  },
  {
   "cell_type": "code",
   "execution_count": null,
   "metadata": {},
   "outputs": [],
   "source": [
    "class Employee: \n",
    "    def __init__(self, name, emp_id, age, num_carts): #constructor function has to include 'self' as 1st arg\n",
    "        self.name = name\n",
    "        self.emp_id = emp_id\n",
    "        self.age = age\n",
    "        self.num_carts = num_carts # number of carts per train retrieved by employee \n",
    "        \n",
    "    def introduce_self(self):\n",
    "        print(\"My name is \" + self.name)"
   ]
  },
  {
   "cell_type": "code",
   "execution_count": null,
   "metadata": {},
   "outputs": [],
   "source": [
    "# the hotkey to comment out a line of code is command + / \n",
    "\n",
    "# charles = Employee() \n",
    "# charles.name = \"Charles\" #attributes of object \n",
    "# charles.emp_id = 1 \n",
    "# charles.age = 33 \n",
    "\n",
    "# noah = Employee() \n",
    "# noah.name = \"Noah\"\n",
    "# noah.emp_id = 2 \n",
    "# noah.age = 19 "
   ]
  },
  {
   "cell_type": "code",
   "execution_count": null,
   "metadata": {},
   "outputs": [],
   "source": [
    "charles = Employee(\"Charles\", 1, 33, 10)\n",
    "noah = Employee(\"Noah\", 2, 19, 10)\n",
    "christina = Employee(\"Christina\", 3, 20, 8)\n",
    "kevin = Employee(\"Kevin\", 4, 53, 9)"
   ]
  },
  {
   "cell_type": "code",
   "execution_count": null,
   "metadata": {},
   "outputs": [
    {
     "name": "stdout",
     "output_type": "stream",
     "text": [
      "My name is Charles\n",
      "My name is Noah\n"
     ]
    }
   ],
   "source": [
    "charles.introduce_self()\n",
    "noah.introduce_self()"
   ]
  },
  {
   "cell_type": "markdown",
   "metadata": {},
   "source": [
    "### corrall class "
   ]
  },
  {
   "cell_type": "code",
   "execution_count": null,
   "metadata": {},
   "outputs": [],
   "source": [
    "class Corrall:\n",
    "    def __init__(self, id, cart_qty, capacity): \n",
    "        self.id = id \n",
    "        self.cart_qty = cart_qty\n",
    "        self.capacity = capacity \n",
    "\n",
    "    def is_full(self):\n",
    "        return self.cart_qty >= self.capacity\n",
    "            \n",
    "\n",
    "    "
   ]
  },
  {
   "cell_type": "code",
   "execution_count": null,
   "metadata": {},
   "outputs": [],
   "source": [
    "c1 = Corrall(1,0,30)"
   ]
  },
  {
   "cell_type": "code",
   "execution_count": null,
   "metadata": {},
   "outputs": [
    {
     "data": {
      "text/plain": [
       "1"
      ]
     },
     "execution_count": 35,
     "metadata": {},
     "output_type": "execute_result"
    }
   ],
   "source": [
    "c1.id"
   ]
  },
  {
   "cell_type": "code",
   "execution_count": null,
   "metadata": {},
   "outputs": [
    {
     "data": {
      "text/plain": [
       "30"
      ]
     },
     "execution_count": 37,
     "metadata": {},
     "output_type": "execute_result"
    }
   ],
   "source": [
    "c1.cart_qty \n",
    "c1.capacity "
   ]
  },
  {
   "cell_type": "code",
   "execution_count": null,
   "metadata": {},
   "outputs": [
    {
     "data": {
      "text/plain": [
       "False"
      ]
     },
     "execution_count": 38,
     "metadata": {},
     "output_type": "execute_result"
    }
   ],
   "source": [
    "c1.is_full()"
   ]
  },
  {
   "cell_type": "code",
   "execution_count": null,
   "metadata": {},
   "outputs": [],
   "source": [
    "#lets create 15 corralls using a list comprehension \n",
    "corralls = [Corrall(i, 0, 30) for i in range(1,13)]"
   ]
  },
  {
   "cell_type": "code",
   "execution_count": null,
   "metadata": {},
   "outputs": [
    {
     "data": {
      "text/plain": [
       "12"
      ]
     },
     "execution_count": 60,
     "metadata": {},
     "output_type": "execute_result"
    }
   ],
   "source": [
    "corralls[11].id"
   ]
  },
  {
   "cell_type": "markdown",
   "metadata": {},
   "source": [
    "### cart class"
   ]
  },
  {
   "cell_type": "code",
   "execution_count": null,
   "metadata": {},
   "outputs": [],
   "source": [
    "class Cart: \n",
    "    def __init__(self, id): \n",
    "        self.id = id "
   ]
  },
  {
   "cell_type": "markdown",
   "metadata": {},
   "source": []
  },
  {
   "cell_type": "code",
   "execution_count": null,
   "metadata": {},
   "outputs": [],
   "source": [
    "# creating 30 instances of class Cart within a list\n",
    "carts  = [] \n",
    "\n",
    "for i in range(1,31):\n",
    "    carts.append(Cart(i))\n"
   ]
  },
  {
   "cell_type": "code",
   "execution_count": null,
   "metadata": {},
   "outputs": [
    {
     "data": {
      "text/plain": [
       "30"
      ]
     },
     "execution_count": 52,
     "metadata": {},
     "output_type": "execute_result"
    }
   ],
   "source": [
    "#confiming that it worked \n",
    "carts[29].id"
   ]
  },
  {
   "cell_type": "markdown",
   "metadata": {},
   "source": [
    "### Objective 3: function 2 "
   ]
  },
  {
   "cell_type": "markdown",
   "metadata": {},
   "source": [
    "I want to create a function that simulates that parking lot where one second in the model represents one minute in real life. \n",
    "\n",
    "The parameters: \n",
    "\n",
    "- number of workers (0 -> 5), determines how quickly the corralls are emptied \n",
    "- busyness (0 -> 10), determines how quickly the corralls fill up\n",
    "\n",
    "\n",
    "Let's imagine there are 6 corrals in a parking lot, with 2 workers in the parking lot, with moderate busyness (5)"
   ]
  },
  {
   "cell_type": "markdown",
   "metadata": {},
   "source": []
  },
  {
   "cell_type": "code",
   "execution_count": 32,
   "metadata": {},
   "outputs": [],
   "source": [
    "#parameters \n",
    "num_workers = 2\n",
    "busyness = 5 "
   ]
  },
  {
   "cell_type": "code",
   "execution_count": 52,
   "metadata": {},
   "outputs": [],
   "source": [
    "#creating my corrals as a dictionary of 6 lists \n",
    "corrals = {}\n",
    "\n",
    "for i in range(0,6):\n",
    "    corrals[f'corral_{i+1}'] = list() "
   ]
  },
  {
   "cell_type": "code",
   "execution_count": 53,
   "metadata": {},
   "outputs": [
    {
     "name": "stdout",
     "output_type": "stream",
     "text": [
      "{'corral_1': [], 'corral_2': [], 'corral_3': [], 'corral_4': [], 'corral_5': [], 'corral_6': []}\n"
     ]
    }
   ],
   "source": [
    "print(corrals)"
   ]
  },
  {
   "cell_type": "code",
   "execution_count": 56,
   "metadata": {},
   "outputs": [],
   "source": [
    "# let's first simulate the corrals filling up at the same rate, and when they reach 24 carts, the function prints \"OVERFLOWING CARTS!\"\n",
    "import time\n",
    "\n",
    "def first_to_twentyfour(workers, busyness, corrals):\n",
    "        for i in range(0,len(corrals)): # for each list inside the corrals dictionary \n",
    "            if len(corrals[f'corral_{i+1}']) < 24: # if the length of that list is not above 24, \n",
    "                corrals[f'corral_{i+1}'].append('x') #add one more cart\n",
    "                print(corrals[f'corral_{i+1}'])\n",
    "            time.sleep(1)\n",
    "        return(corrals)\n",
    "\n",
    "        \n",
    "        \n",
    "        "
   ]
  },
  {
   "cell_type": "code",
   "execution_count": 57,
   "metadata": {},
   "outputs": [
    {
     "name": "stdout",
     "output_type": "stream",
     "text": [
      "['x', 'x']\n",
      "['x', 'x']\n",
      "['x', 'x']\n",
      "['x', 'x']\n",
      "['x', 'x']\n",
      "['x', 'x']\n"
     ]
    },
    {
     "data": {
      "text/plain": [
       "{'corral_1': ['x', 'x'],\n",
       " 'corral_2': ['x', 'x'],\n",
       " 'corral_3': ['x', 'x'],\n",
       " 'corral_4': ['x', 'x'],\n",
       " 'corral_5': ['x', 'x'],\n",
       " 'corral_6': ['x', 'x']}"
      ]
     },
     "execution_count": 57,
     "metadata": {},
     "output_type": "execute_result"
    }
   ],
   "source": [
    "#let's test this function \n",
    "\n",
    "first_to_twentyfour(num_workers, busyness, corrals)"
   ]
  },
  {
   "cell_type": "code",
   "execution_count": 49,
   "metadata": {},
   "outputs": [
    {
     "data": {
      "text/plain": [
       "24"
      ]
     },
     "execution_count": 49,
     "metadata": {},
     "output_type": "execute_result"
    }
   ],
   "source": []
  },
  {
   "cell_type": "code",
   "execution_count": 20,
   "metadata": {},
   "outputs": [
    {
     "name": "stdout",
     "output_type": "stream",
     "text": [
      "[]\n"
     ]
    }
   ],
   "source": []
  },
  {
   "cell_type": "code",
   "execution_count": null,
   "metadata": {},
   "outputs": [],
   "source": []
  }
 ],
 "metadata": {
  "kernelspec": {
   "display_name": "Python 3",
   "language": "python",
   "name": "python3"
  },
  "language_info": {
   "codemirror_mode": {
    "name": "ipython",
    "version": 3
   },
   "file_extension": ".py",
   "mimetype": "text/x-python",
   "name": "python",
   "nbconvert_exporter": "python",
   "pygments_lexer": "ipython3",
   "version": "3.10.9"
  }
 },
 "nbformat": 4,
 "nbformat_minor": 2
}
