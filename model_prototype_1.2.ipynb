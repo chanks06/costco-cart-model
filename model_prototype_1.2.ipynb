{
 "cells": [
  {
   "cell_type": "code",
   "execution_count": 4,
   "metadata": {},
   "outputs": [],
   "source": [
    "import time \n",
    "import random "
   ]
  },
  {
   "cell_type": "code",
   "execution_count": 1,
   "metadata": {},
   "outputs": [],
   "source": [
    "#parameters \n",
    "num_workers = 2\n",
    "busyness = 5 \n",
    "\n",
    "\n",
    "\n",
    "#creating 4 corrals \n",
    "corrals = {}\n",
    "for i in range(0,4):\n",
    "    corrals[f'corral_{i+1}'] = list() "
   ]
  },
  {
   "cell_type": "code",
   "execution_count": 3,
   "metadata": {},
   "outputs": [
    {
     "name": "stdout",
     "output_type": "stream",
     "text": [
      "dict_keys(['corral_1', 'corral_2', 'corral_3', 'corral_4'])\n"
     ]
    }
   ],
   "source": [
    "print(corrals.keys())"
   ]
  },
  {
   "cell_type": "code",
   "execution_count": 5,
   "metadata": {},
   "outputs": [
    {
     "data": {
      "text/plain": [
       "0"
      ]
     },
     "execution_count": 5,
     "metadata": {},
     "output_type": "execute_result"
    }
   ],
   "source": [
    "len(corrals['corral_1'])"
   ]
  },
  {
   "cell_type": "code",
   "execution_count": 7,
   "metadata": {},
   "outputs": [],
   "source": [
    "# let's first simulate the corrals filling up at the same rate, and when they reach 24 carts, the function prints \"OVERFLOWING CARTS!\"\n",
    "import time\n",
    "\n",
    "def first_to_twentyfour(workers, busyness, corrals):\n",
    "        while True: \n",
    "            for i in range(0,len(corrals)): # for each list inside the corrals dictionary \n",
    "                if len(corrals[f'corral_{i+1}']) > 24: # if the length of that list is not above 24, \n",
    "                    print('overflowing carts!')\n",
    "                    break\n",
    "                else: \n",
    "                    corrals[f'corral_{i+1}'].append('x')\n",
    "                    print(corrals[f'corral_{i+1}'])\n",
    "                    time.sleep(1)\n",
    "\n",
    "\n",
    "\n",
    "#cleaner function f_to_24_simple():\n",
    "\n",
    "def f_to_24_simple(corrals): \n",
    "    while True: \n",
    "        for corral in corrals: \n",
    "            if len(corrals[corral]) >24: \n",
    "                  print(f'overflowing carts at {corral}')\n",
    "                  break\n",
    "            else:\n",
    "                corrals[corral].append('x')\n",
    "                print(corrals[corral])\n",
    "                time.sleep(1)\n"
   ]
  },
  {
   "cell_type": "code",
   "execution_count": 10,
   "metadata": {},
   "outputs": [],
   "source": [
    "#resetting corrals \n",
    "corrals = {}\n",
    "for i in range(0,4):\n",
    "    corrals[f'corral_{i+1}'] = list() "
   ]
  },
  {
   "cell_type": "code",
   "execution_count": 73,
   "metadata": {},
   "outputs": [],
   "source": [
    "# now back to subtracting carts based on how many workers are present \n",
    "#let's divide the cart addition and subtraction into two separate function, and then call them both to run in the program. \n",
    "\n",
    "\n",
    "def cart_addition(corrals): \n",
    "    while True: \n",
    "        for corral in corrals: \n",
    "            if len(corrals[corral]) >24: \n",
    "                  print(f'overflowing carts at {corral}')\n",
    "                  break\n",
    "            else:\n",
    "                corrals[corral].append('x')\n",
    "                #print(corrals[corral])\n",
    "                time.sleep(1)\n",
    "\n",
    "def cart_subtraction(workers, corrals): \n",
    "    while True: \n",
    "        for worker in workers: \n",
    "            '''\n",
    "            let's assume var workers is a list of worker names\n",
    "            I want to have a worker randomly select a corral to pick and take carts from, as soon as corral as at least 10 carts!\n",
    "            So the logic should be: \n",
    "                1. randomly select a corral from corrals\n",
    "                2. check if corral has at least 10 carts \n",
    "                3. remove 6 carts from corral \n",
    "            '''\n",
    "            random_key = random.choice(list(corrals.keys())) #random.choice() returns a random element from a list, so need to cast corrals.keys() as a list\n",
    "            \n",
    "            while len(corrals[random_key]) < 10: #continue randomly selecting a corral until you find one that has at \n",
    "                                                 #least 10 carts (this emulates the behavoir of a cart pusher who would seek out a corral in the parking lot that is worth pulling form)\n",
    "                random_key = random.choice(list(corrals.keys()))\n",
    "            else:  \n",
    "                #if that corral has at at least 10 carts \n",
    "                 # remove the last 7 elements from the list \n",
    "                corrals[random_key] = corrals[random_key][:-7]\n",
    "                time.sleep(5) # wait 5 seconds before the next worker retrieves carts \n",
    "                print(f'{worker} retrieved 7 carts from {random_key}.')\n",
    "\n",
    "\n",
    "            \n",
    "            \n",
    "\n",
    "        \n"
   ]
  },
  {
   "cell_type": "code",
   "execution_count": 74,
   "metadata": {},
   "outputs": [
    {
     "name": "stdout",
     "output_type": "stream",
     "text": [
      "charles retrieved 7 carts from corral_2.\n",
      "chris retrieved 7 carts from corral_1.\n"
     ]
    },
    {
     "ename": "KeyboardInterrupt",
     "evalue": "",
     "output_type": "error",
     "traceback": [
      "\u001b[0;31m---------------------------------------------------------------------------\u001b[0m",
      "\u001b[0;31mKeyboardInterrupt\u001b[0m                         Traceback (most recent call last)",
      "\u001b[1;32m/Users/chanks/workspace/costco-cart-model/model_prototype_1.2.ipynb Cell 8\u001b[0m line \u001b[0;36m1\n\u001b[1;32m      <a href='vscode-notebook-cell:/Users/chanks/workspace/costco-cart-model/model_prototype_1.2.ipynb#X10sZmlsZQ%3D%3D?line=6'>7</a>\u001b[0m     corrals[\u001b[39mf\u001b[39m\u001b[39m'\u001b[39m\u001b[39mcorral_\u001b[39m\u001b[39m{\u001b[39;00mi\u001b[39m+\u001b[39m\u001b[39m1\u001b[39m\u001b[39m}\u001b[39;00m\u001b[39m'\u001b[39m] \u001b[39m=\u001b[39m \u001b[39mlist\u001b[39m(\u001b[39m'\u001b[39m\u001b[39mx\u001b[39m\u001b[39m'\u001b[39m \u001b[39m*\u001b[39m \u001b[39m10\u001b[39m) \n\u001b[1;32m      <a href='vscode-notebook-cell:/Users/chanks/workspace/costco-cart-model/model_prototype_1.2.ipynb#X10sZmlsZQ%3D%3D?line=8'>9</a>\u001b[0m \u001b[39m# with each corral having 10 carts, I believe this function should print 4 lists with 3 carts each: \u001b[39;00m\n\u001b[0;32m---> <a href='vscode-notebook-cell:/Users/chanks/workspace/costco-cart-model/model_prototype_1.2.ipynb#X10sZmlsZQ%3D%3D?line=10'>11</a>\u001b[0m cart_subtraction(workers \u001b[39m=\u001b[39;49m workers, corrals \u001b[39m=\u001b[39;49m corrals)\n",
      "\u001b[1;32m/Users/chanks/workspace/costco-cart-model/model_prototype_1.2.ipynb Cell 8\u001b[0m line \u001b[0;36m3\n\u001b[1;32m     <a href='vscode-notebook-cell:/Users/chanks/workspace/costco-cart-model/model_prototype_1.2.ipynb#X10sZmlsZQ%3D%3D?line=31'>32</a>\u001b[0m \u001b[39melse\u001b[39;00m:  \n\u001b[1;32m     <a href='vscode-notebook-cell:/Users/chanks/workspace/costco-cart-model/model_prototype_1.2.ipynb#X10sZmlsZQ%3D%3D?line=32'>33</a>\u001b[0m     \u001b[39m#if that corral has at at least 10 carts \u001b[39;00m\n\u001b[1;32m     <a href='vscode-notebook-cell:/Users/chanks/workspace/costco-cart-model/model_prototype_1.2.ipynb#X10sZmlsZQ%3D%3D?line=33'>34</a>\u001b[0m      \u001b[39m# remove the last 7 elements from the list \u001b[39;00m\n\u001b[1;32m     <a href='vscode-notebook-cell:/Users/chanks/workspace/costco-cart-model/model_prototype_1.2.ipynb#X10sZmlsZQ%3D%3D?line=34'>35</a>\u001b[0m     corrals[random_key] \u001b[39m=\u001b[39m corrals[random_key][:\u001b[39m-\u001b[39m\u001b[39m7\u001b[39m]\n\u001b[0;32m---> <a href='vscode-notebook-cell:/Users/chanks/workspace/costco-cart-model/model_prototype_1.2.ipynb#X10sZmlsZQ%3D%3D?line=35'>36</a>\u001b[0m     time\u001b[39m.\u001b[39;49msleep(\u001b[39m5\u001b[39;49m) \u001b[39m# wait 5 seconds before the next worker retrieves carts \u001b[39;00m\n\u001b[1;32m     <a href='vscode-notebook-cell:/Users/chanks/workspace/costco-cart-model/model_prototype_1.2.ipynb#X10sZmlsZQ%3D%3D?line=36'>37</a>\u001b[0m     \u001b[39mprint\u001b[39m(\u001b[39mf\u001b[39m\u001b[39m'\u001b[39m\u001b[39m{\u001b[39;00mworker\u001b[39m}\u001b[39;00m\u001b[39m retrieved 7 carts from \u001b[39m\u001b[39m{\u001b[39;00mrandom_key\u001b[39m}\u001b[39;00m\u001b[39m.\u001b[39m\u001b[39m'\u001b[39m)\n",
      "\u001b[0;31mKeyboardInterrupt\u001b[0m: "
     ]
    }
   ],
   "source": [
    "#testing cart_subtraction():\n",
    "\n",
    "workers = ['charles', 'chris'] \n",
    "\n",
    "corrals = {}\n",
    "for i in range(0,4):\n",
    "    corrals[f'corral_{i+1}'] = list('x' * 10) \n",
    "\n",
    "# with each corral having 10 carts, I believe this function should print 4 lists with 3 carts each: \n",
    "\n",
    "cart_subtraction(workers = workers, corrals = corrals)\n",
    "#OKAY, so far the function takes 7 carts away from 2 randomly selected corrals beacuse there are 2 workers present. cool. \n",
    "\n",
    "\n",
    "#but if there are not enough carts, it should not make the retrieval print statement "
   ]
  },
  {
   "cell_type": "markdown",
   "metadata": {},
   "source": [
    "Now I would like to run these two functions together, each with a sleep feature: "
   ]
  },
  {
   "cell_type": "code",
   "execution_count": 51,
   "metadata": {},
   "outputs": [
    {
     "data": {
      "text/plain": [
       "{'corral_1': ['x', 'x', 'x'],\n",
       " 'corral_2': ['x', 'x', 'x'],\n",
       " 'corral_3': ['x', 'x', 'x'],\n",
       " 'corral_4': ['x', 'x', 'x']}"
      ]
     },
     "execution_count": 51,
     "metadata": {},
     "output_type": "execute_result"
    }
   ],
   "source": [
    "cart_subtraction(workers, corrals)"
   ]
  },
  {
   "cell_type": "code",
   "execution_count": 70,
   "metadata": {},
   "outputs": [
    {
     "data": {
      "text/plain": [
       "'corral_2'"
      ]
     },
     "execution_count": 70,
     "metadata": {},
     "output_type": "execute_result"
    }
   ],
   "source": [
    "\n",
    "\n",
    "list(corrals.keys())[1]"
   ]
  },
  {
   "cell_type": "code",
   "execution_count": null,
   "metadata": {},
   "outputs": [],
   "source": []
  }
 ],
 "metadata": {
  "kernelspec": {
   "display_name": "base",
   "language": "python",
   "name": "python3"
  },
  "language_info": {
   "codemirror_mode": {
    "name": "ipython",
    "version": 3
   },
   "file_extension": ".py",
   "mimetype": "text/x-python",
   "name": "python",
   "nbconvert_exporter": "python",
   "pygments_lexer": "ipython3",
   "version": "3.10.9"
  }
 },
 "nbformat": 4,
 "nbformat_minor": 2
}
